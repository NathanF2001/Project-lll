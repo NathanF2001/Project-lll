{
  "nbformat": 4,
  "nbformat_minor": 0,
  "metadata": {
    "colab": {
      "name": "Server Machine Learning.ipynb",
      "provenance": [],
      "collapsed_sections": [],
      "toc_visible": true
    },
    "kernelspec": {
      "name": "python3",
      "display_name": "Python 3"
    }
  },
  "cells": [
    {
      "cell_type": "markdown",
      "metadata": {
        "id": "B04FLkcCHzR4"
      },
      "source": [
        "#Tratamento Dataset"
      ]
    },
    {
      "cell_type": "code",
      "metadata": {
        "id": "30J7AZ2GHafW"
      },
      "source": [
        "# bibliotecas básicas para análise exploratória de dados \r\n",
        "import pandas as pd\r\n",
        "import numpy as np\r\n",
        "import matplotlib.pyplot as plt\r\n",
        "import seaborn as sns"
      ],
      "execution_count": null,
      "outputs": []
    },
    {
      "cell_type": "code",
      "metadata": {
        "colab": {
          "base_uri": "https://localhost:8080/"
        },
        "id": "dOEA8q4wHjzS",
        "outputId": "6c96b357-7a7a-4c3b-8557-15f9c50f24fe"
      },
      "source": [
        "from google.colab import drive\r\n",
        "drive.mount('/content/drive')"
      ],
      "execution_count": null,
      "outputs": [
        {
          "output_type": "stream",
          "text": [
            "Mounted at /content/drive\n"
          ],
          "name": "stdout"
        }
      ]
    },
    {
      "cell_type": "code",
      "metadata": {
        "colab": {
          "base_uri": "https://localhost:8080/"
        },
        "id": "ZP_QHP45Hl1Z",
        "outputId": "d02f9be6-9b76-4281-b391-1f3f71fee7f4"
      },
      "source": [
        "# arquivo separado por ponto e vírgula\r\n",
        "#enade2019 = pd.read_csv('/content/microdados_enade_2019.txt',sep=';')\r\n",
        "\r\n",
        "dataset_diretory_2019 = '/content/drive/MyDrive/Dataset_projeto_lll/microdados_enade_2019.csv'\r\n",
        "Enade_2019 = pd.read_csv(dataset_diretory_2019,sep = \";\")"
      ],
      "execution_count": null,
      "outputs": [
        {
          "output_type": "stream",
          "text": [
            "/usr/local/lib/python3.6/dist-packages/IPython/core/interactiveshell.py:2718: DtypeWarning: Columns (57,59) have mixed types.Specify dtype option on import or set low_memory=False.\n",
            "  interactivity=interactivity, compiler=compiler, result=result)\n"
          ],
          "name": "stderr"
        }
      ]
    },
    {
      "cell_type": "code",
      "metadata": {
        "id": "9FYxV4KIfzM8"
      },
      "source": [
        "Dataset_features = Enade_2019"
      ],
      "execution_count": null,
      "outputs": []
    },
    {
      "cell_type": "code",
      "metadata": {
        "id": "NkPvZ-2YV0Ln",
        "colab": {
          "base_uri": "https://localhost:8080/"
        },
        "outputId": "1d8cf096-ef02-4585-8adb-7423860592bb"
      },
      "source": [
        "#Selecionar as colunas que serão utilizadas do dataset\r\n",
        "Dataset_features = Dataset_features[[#\"CO_GRUPO\",\r\n",
        "                                     \"NT_GER\",\"NU_IDADE\",\"TP_SEXO\",\"QE_I01\",\"QE_I02\",\"QE_I03\",\r\n",
        "                                          \"QE_I04\",\"QE_I05\",\"QE_I06\",\"QE_I07\",\"QE_I08\",\r\n",
        "                                          \"QE_I09\",\"QE_I10\",\"QE_I11\",\"QE_I12\",\"QE_I13\",\"QE_I14\",\"QE_I15\",\r\n",
        "                                          \"QE_I16\",\"QE_I17\",\"QE_I18\",\"QE_I19\",\"QE_I20\",\"QE_I21\",\r\n",
        "                                          \"QE_I22\",\"QE_I23\",\"QE_I24\",\"QE_I25\",\"QE_I26\"]]\r\n",
        "#Troca do nome das colunas\r\n",
        "Dataset_features.rename(columns={\r\n",
        "  #\"CO_GRUPO\": \"Curso_participante\",\r\n",
        "  \"NU_IDADE\"  : \"Idade\",\r\n",
        "  \"TP_SEXO\" : \"Sexo\",\r\n",
        "  \"NT_GER\" : \"Nota\",\r\n",
        "  \"QE_I01\" : \"Estado_civil\",\r\n",
        "  \"QE_I02\" : \"Raça/cor\",\r\n",
        "  \"QE_I03\" : \"Nacionalidade\",\r\n",
        "  \"QE_I04\" : \"Escolaridade_pai\",\r\n",
        "  \"QE_I05\" : \"Escolaridade_mae\",\r\n",
        "  \"QE_I06\" : \"Com_quem_mora\",\r\n",
        "  \"QE_I07\" : \"Qt_moradores_participante\",\r\n",
        "  \"QE_I08\" : \"Renda_família\",\r\n",
        "  \"QE_I09\" : \"Situação_financeira\",\r\n",
        "  \"QE_I10\" : \"Situação_trabalho\",\r\n",
        "  \"QE_I11\" : \"Bolsa_de_estudos\",\r\n",
        "  \"QE_I12\" : \"Bolsa_permanência\",\r\n",
        "  \"QE_I13\" : \"Bolsa_academica\",\r\n",
        "  \"QE_I14\" : \"Atividade_exterior\",\r\n",
        "  \"QE_I15\" : \"Ingresso_cota\",\r\n",
        "  \"QE_I16\" : \"Regiao_ensino_medio\",\r\n",
        "  \"QE_I17\" : \"Tipo_ensino_medio\",\r\n",
        "  \"QE_I18\" : \"Modalidade_ensino_medio\",\r\n",
        "  \"QE_I19\" : \"Incentivou_graduação\",\r\n",
        "  \"QE_I20\" : \"Grupo_dificuldade\",\r\n",
        "  \"QE_I21\" : \"Familia_curso_superior\",\r\n",
        "  \"QE_I22\" : \"Livros_lidos\",\r\n",
        "  \"QE_I23\" : \"horas/semana estudadas\",\r\n",
        "  \"QE_I24\" : \"Estudo_idioma_estrangeiro\",\r\n",
        "  \"QE_I25\" : \"Motivo_curso\",\r\n",
        "  \"QE_I26\" : \"Razao_instituicao\"\r\n",
        "},inplace = True)"
      ],
      "execution_count": null,
      "outputs": [
        {
          "output_type": "stream",
          "text": [
            "/usr/local/lib/python3.6/dist-packages/pandas/core/frame.py:4308: SettingWithCopyWarning: \n",
            "A value is trying to be set on a copy of a slice from a DataFrame\n",
            "\n",
            "See the caveats in the documentation: https://pandas.pydata.org/pandas-docs/stable/user_guide/indexing.html#returning-a-view-versus-a-copy\n",
            "  errors=errors,\n"
          ],
          "name": "stderr"
        }
      ]
    },
    {
      "cell_type": "code",
      "metadata": {
        "id": "w6mOut5nLxQ1",
        "colab": {
          "base_uri": "https://localhost:8080/"
        },
        "outputId": "d54f2adb-4fd8-4708-9e8a-b9ca73c560a9"
      },
      "source": [
        "Dataset_features.replace(\" \",np.NaN,inplace = True)\r\n",
        "Dataset_features = Dataset_features.dropna()\r\n",
        "Dataset_features = Dataset_features[Dataset_features[\"Nota\"] != \"0\"]"
      ],
      "execution_count": null,
      "outputs": [
        {
          "output_type": "stream",
          "text": [
            "/usr/local/lib/python3.6/dist-packages/pandas/core/frame.py:4389: SettingWithCopyWarning: \n",
            "A value is trying to be set on a copy of a slice from a DataFrame\n",
            "\n",
            "See the caveats in the documentation: https://pandas.pydata.org/pandas-docs/stable/user_guide/indexing.html#returning-a-view-versus-a-copy\n",
            "  method=method,\n"
          ],
          "name": "stderr"
        }
      ]
    },
    {
      "cell_type": "code",
      "metadata": {
        "id": "VieTBkmXMX2x"
      },
      "source": [
        "# Mudar a nota bruta de uma string para float (substituição do \",\" para \".\")\r\n",
        "Dataset_features['Nota'] = Dataset_features['Nota'].apply(lambda x: float(str(x).replace(\",\",\".\")))\r\n",
        "\r\n",
        "def Mudar_variaveis(nome_da_coluna,dicionario):\r\n",
        "  global Dataset_features\r\n",
        "\r\n",
        "  Dataset_features[nome_da_coluna].replace(dicionario,inplace = True)\r\n",
        "\r\n",
        "\r\n",
        "#Mudar as variveis de número de para String na coluna Curso_participante\r\n",
        "\"\"\"Mudar_variaveis(\r\n",
        "    \"Curso_participante\",\r\n",
        "    {\r\n",
        "      5: \"Medicina Veterinária\",\r\n",
        "      6: \"Odontologia\",\r\n",
        "      12: \"Medicina\",\r\n",
        "      17: \"Agronomia\",\r\n",
        "      19: \"Farmácia\",\r\n",
        "      21: \"Arquitetura e urbanismo\",\r\n",
        "      23: \"Enfermagem\",\r\n",
        "      27: \"Fonoaudiologia\",\r\n",
        "      28: \"Nutrição\",\r\n",
        "      36: \"Fisioterapia\",\r\n",
        "      51: \"Zootecnia\",\r\n",
        "      55: \"Biomedicina\",\r\n",
        "      69: \"Tecnologia em radiologia\",\r\n",
        "      90: \"Tecnologia em agronegócios\",\r\n",
        "      91: \"Tecnologia em Gestão Hospitalar\",\r\n",
        "      92: \"Tecnologia em Gestão Ambiental\",\r\n",
        "      95: \"Tecnologia em Estética e Cosmética\",\r\n",
        "      3501: \"Educação Física (Bacharelado)\",\r\n",
        "      4003: \"Engenharia da Computação\",\r\n",
        "      5710: \"Engenharia Civil\",\r\n",
        "      5806: \"Engenharia Elétrica\",\r\n",
        "      5814: \"Engenharia de Controle e Automação\",\r\n",
        "      5902: \"Engenharia Mecânica\",\r\n",
        "      6002: \"Engenharia de Alimentos\",\r\n",
        "      6008: \"Engenharia Química\",\r\n",
        "      6208: \"Engenharia de Produção\",\r\n",
        "      6307: \"Engenharia Ambiental\",\r\n",
        "      6405: \"Engenharia Florestal\",\r\n",
        "      6410: \"Tecnolgia em Segurança no Trabalho\"\r\n",
        "  })\"\"\"\r\n",
        "\r\n",
        "#Mudar o nome das categorias da coluna Estado_cívil\r\n",
        "Mudar_variaveis(\r\n",
        "    \"Estado_civil\",\r\n",
        "    {\r\n",
        "      \"A\" : \"Solteiro(a)\",\r\n",
        "      \"B\" : \"Casado(a)\",\r\n",
        "      \"C\" : \"Separado(a) judicialmente/divorciado(a)\",\r\n",
        "      \"D\" : \"Viúvo(a)\",\r\n",
        "      \"E\" : \"Outro(a)\"\r\n",
        "    })\r\n",
        "\r\n",
        "#Mudar o nome das categorias da coluna Raça/cor\r\n",
        "Mudar_variaveis(\r\n",
        "    \"Raça/cor\",\r\n",
        "    {\r\n",
        "      \"A\" : \"Branca\",\r\n",
        "      \"B\" : \"Preta\",\r\n",
        "      \"C\" : \"Amarela\",\r\n",
        "      \"D\" : \"Parda\",\r\n",
        "      \"E\" : \"Indígena\",\r\n",
        "      \"F\" : \"Não quis declarar\"\r\n",
        "    })\r\n",
        "\r\n",
        "#Mudar o nome das categorias da coluna Nacionalidade\r\n",
        "Mudar_variaveis(\r\n",
        "    \"Nacionalidade\",\r\n",
        "    {\r\n",
        "      \"A\" : \"Brasileira\",\r\n",
        "      \"B\" : \"Brasileira naturalizada\",\r\n",
        "      \"C\" : \"Estrangeira\"\r\n",
        "    })\r\n",
        "\r\n",
        "#Mudar o nome das categorias da coluna Escolaridade_pai\r\n",
        "\"\"\"Mudar_variaveis(\r\n",
        "    'Escolaridade_pai',\r\n",
        "    {\r\n",
        "      \"A\" : \"Nenhuma\",\r\n",
        "      \"B\" : \"Ensino Fundamental: 1º ao 5º ano(1º a 4º série)\",\r\n",
        "      \"C\" : \"Ensino Fundamental: 6º ao 9º ano(5º a 8º série)\",\r\n",
        "      \"D\" : \"Ensino Médio\",\r\n",
        "      \"E\" : \"Ensino Superior - Graduação\",\r\n",
        "      \"F\" : \"Pós-graduação\"\r\n",
        "    })\"\"\"\r\n",
        "Mudar_variaveis(\r\n",
        "    'Escolaridade_pai',\r\n",
        "    {\r\n",
        "      \"A\" : \"Nenhuma\",\r\n",
        "      \"B\" : \"Ensino Fundamental\",\r\n",
        "      \"C\" : \"Ensino Fundamental\",\r\n",
        "      \"D\" : \"Ensino Médio\",\r\n",
        "      \"E\" : \"Ensino Superior\",\r\n",
        "      \"F\" : \"Ensino Superior\"\r\n",
        "    })\r\n",
        "\r\n",
        "#Mudar o nome das categorias da coluna Escolaridade_mae\r\n",
        "\"\"\"Mudar_variaveis(\r\n",
        "    'Escolaridade_mae',\r\n",
        "    {\r\n",
        "      \"A\" : \"Nenhuma\",\r\n",
        "      \"B\" : \"Ensino Fundamental: 1º ao 5º ano(1º a 4º série)\",\r\n",
        "      \"C\" : \"Ensino Fundamental: 6º ao 9º ano(5º a 8º série)\",\r\n",
        "      \"D\" : \"Ensino Médio\",\r\n",
        "      \"E\" : \"Ensino Superior - Graduação\",\r\n",
        "      \"F\" : \"Pós-graduação\"\r\n",
        "    })\"\"\"\r\n",
        "Mudar_variaveis(\r\n",
        "    'Escolaridade_mae',\r\n",
        "    {\r\n",
        "      \"A\" : \"Nenhuma\",\r\n",
        "      \"B\" : \"Ensino Fundamental\",\r\n",
        "      \"C\" : \"Ensino Fundamental\",\r\n",
        "      \"D\" : \"Ensino Médio\",\r\n",
        "      \"E\" : \"Ensino Superior\",\r\n",
        "      \"F\" : \"Ensino Superior\"\r\n",
        "    })\r\n",
        "\r\n",
        "#Mudar o nome das categorias da coluna Com_quem_mora\r\n",
        "Mudar_variaveis(\r\n",
        "    'Com_quem_mora',\r\n",
        "    {\r\n",
        "      \"A\" : \"Em casa ou apartamento, sozinho\",\r\n",
        "      \"B\" : \"Em casa ou apartamento, com pais e/ou parentes\",\r\n",
        "      \"C\" : \"Em casa ou apartamento, com cônjuge e/ou filhos\",\r\n",
        "      \"D\" : \"Em casa ou apartamento, com outras pessoas (incluindo república)\",\r\n",
        "      \"E\" : \"Em alojamento universitário da própria instituição\",\r\n",
        "      \"F\" : \"Em outros tipos de habitação individual ou coletiva (hotel, hospedaria, pensão ou outro)\"\r\n",
        "    })\r\n",
        "\"\"\"Mudar_variaveis(\r\n",
        "    'Com_quem_mora',\r\n",
        "    {\r\n",
        "      \"A\" : \"Em casa ou apartamento\",\r\n",
        "      \"B\" : \"Em casa ou apartamento\",\r\n",
        "      \"C\" : \"Em casa ou apartamento\",\r\n",
        "      \"D\" : \"Em casa ou apartamento\",\r\n",
        "      \"E\" : \"Em alojamento universitário da própria instituição\",\r\n",
        "      \"F\" : \"Em outros tipos de habitação individual ou coletiva (hotel, hospedaria, pensão ou outro)\"\r\n",
        "    })\"\"\"\r\n",
        "\r\n",
        "#Mudar o nome das categorias da coluna Qt_moradores_participante\r\n",
        "Mudar_variaveis(\r\n",
        "    'Qt_moradores_participante',\r\n",
        "    {\r\n",
        "      \"A\" : \"Nenhuma\",\r\n",
        "      \"B\" : \"Uma\",\r\n",
        "      \"C\" : \"Duas\",\r\n",
        "      \"D\" : \"Três\",\r\n",
        "      \"E\" : \"Quatro\",\r\n",
        "      \"F\" : \"Cinco\",\r\n",
        "      \"G\" : \"Seis\",\r\n",
        "      \"H\" : \"Sete ou mais\"\r\n",
        "    })\r\n",
        "\r\n",
        "#Mudar o nome das categorias da coluna Renda_família\r\n",
        "Mudar_variaveis(\r\n",
        "    'Renda_família',\r\n",
        "    {\r\n",
        "      \"A\" : \"Até 1.5 salário mínimo\",\r\n",
        "      \"B\" : \"De 1.5 a 3 salários mínimos\",\r\n",
        "      \"C\" : \"De 3 a 4.5 salários mínimos\",\r\n",
        "      \"D\" : \"De 4.5 a 6 salários mínimos\",\r\n",
        "      \"E\" : \"De 6 a 10 salários mínimos\",\r\n",
        "      \"F\" : \"De 10 a 30 salários mínimos\",\r\n",
        "      \"G\" : \"Acima de 30 salários mínimos\",\r\n",
        "    })\r\n",
        "\r\n",
        "#Mudar o nome das categorias da coluna Situação_financeira\r\n",
        "Mudar_variaveis(\r\n",
        "    'Situação_financeira',\r\n",
        "    {\r\n",
        "      \"A\" : \"Não tem renda, gastos financiados por programas governamentais\",\r\n",
        "      \"B\" : \"Não tem renda, gastos financiados pela família ou por outra pessoa\",\r\n",
        "      \"C\" : \"Tem renda, mas recebe ajuda da família ou de outra pessoa para financiar os gastos\",\r\n",
        "      \"D\" : \"Tem renda e não precisa de ajuda para financiar os gastos\",\r\n",
        "      \"E\" : \"Tem renda e contribue com sustento da família\",\r\n",
        "      \"F\" : \"Principal sustento da família\"\r\n",
        "    })\r\n",
        "\"\"\"Mudar_variaveis(\r\n",
        "    'Situação_financeira',\r\n",
        "    {\r\n",
        "      \"A\" : \"Não tem renda\",\r\n",
        "      \"B\" : \"Não tem renda\",\r\n",
        "      \"C\" : \"Tem renda\",\r\n",
        "      \"D\" : \"Tem renda\",\r\n",
        "      \"E\" : \"Tem renda\",\r\n",
        "      \"F\" : \"Principal sustento da família\"\r\n",
        "    })\"\"\"\r\n",
        "\r\n",
        "#Mudar o nome das categorias da coluna Situação_trabalho\r\n",
        "\r\n",
        "Mudar_variaveis(\r\n",
        "    'Situação_trabalho',\r\n",
        "    {\r\n",
        "      \"A\" : \"Não está trabalhando\",\r\n",
        "      \"B\" : \"Trabalha eventualmente\",\r\n",
        "      \"C\" : \"Trabalho até 20 horas semanais\",\r\n",
        "      \"D\" : \"Trabalho de 21 a 39 horas semanais\",\r\n",
        "      \"E\" : \"Trabalho 40 horas semanais ou mais\"\r\n",
        "    })\r\n",
        "\r\n",
        "#Mudar o nome das categorias da coluna Bolsa_de_estudos\r\n",
        "\r\n",
        "Mudar_variaveis(\r\n",
        "    \"Bolsa_de_estudos\",\r\n",
        "    {\r\n",
        "      \"A\" : \"Nenhum, curso gratuito\",\r\n",
        "      \"B\" : \"Nenhum, porém curso não gratuito\",\r\n",
        "      \"C\" : \"ProUni integral\",\r\n",
        "      \"D\" : \"ProUni parcial, apenas\",\r\n",
        "      \"E\" : \"FIES, apenas\",\r\n",
        "      \"F\" : \"Prouni parcial e FIES\",\r\n",
        "      \"G\" : \"Bolsa oferecida por governo\",\r\n",
        "      \"H\" : \"Bolsa oferecida pela instituição\",\r\n",
        "      \"I\" : \"Bolsa oferecida por outra entidade\",\r\n",
        "      \"J\" : \"Finaciamento da instituição\",\r\n",
        "      \"K\" : \"Finaciamento bancário\"\r\n",
        "    })\r\n",
        "\r\n",
        "#Mudar o nome das categorias da coluna Bolsa_permanência\r\n",
        "\r\n",
        "Mudar_variaveis(\r\n",
        "    'Bolsa_permanência',\r\n",
        "    {\r\n",
        "      \"A\" : \"Nenhum\",\r\n",
        "      \"B\" : \"Auxílio Moradia\",\r\n",
        "      \"C\" : \"Auxílio alimentação\",\r\n",
        "      \"D\" : \"Auxílio moradia e alimentação\",\r\n",
        "      \"E\" : \"Auxílio Permanência\",\r\n",
        "      \"F\" : \"Outro tipo de auxílio\"\r\n",
        "    })\r\n",
        "\"\"\"Mudar_variaveis(\r\n",
        "    'Bolsa_permanência',\r\n",
        "    {\r\n",
        "      \"A\" : \"Não\",\r\n",
        "      \"B\" : \"Sim\",\r\n",
        "      \"C\" : \"Sim\",\r\n",
        "      \"D\" : \"Sim\",\r\n",
        "      \"E\" : \"Sim\",\r\n",
        "      \"F\" : \"Sim\"\r\n",
        "    })\"\"\"\r\n",
        "\r\n",
        "#Mudar o nome das categorias da coluna Bolsa_permanência\r\n",
        "Mudar_variaveis(\r\n",
        "    'Bolsa_academica',\r\n",
        "    {\r\n",
        "      \"A\" : \"Nenhum\",\r\n",
        "      \"B\" : \"Bolsa de iniação científica\",\r\n",
        "      \"C\" : \"Bolsa de extensão\",\r\n",
        "      \"D\" : \"Bolsa de monitoria/tutoria\",\r\n",
        "      \"E\" : \"Bolsa PET\",\r\n",
        "      \"F\" : \"Outro tipo de bolsa acadêmica\"\r\n",
        "    })\r\n",
        "\"\"\"Mudar_variaveis(\r\n",
        "    'Bolsa_academica',\r\n",
        "    {\r\n",
        "      \"A\" : \"Não\",\r\n",
        "      \"B\" : \"Sim\",\r\n",
        "      \"C\" : \"Sim\",\r\n",
        "      \"D\" : \"Sim\",\r\n",
        "      \"E\" : \"Sim\",\r\n",
        "      \"F\" : \"Sim\"\r\n",
        "    })\"\"\"\r\n",
        "\r\n",
        "#Mudar o nome das categorias da coluna Atividade_exterior\r\n",
        "Mudar_variaveis(\r\n",
        "    \"Atividade_exterior\",\r\n",
        "    {\r\n",
        "      \"A\" : \"Não\",\r\n",
        "      \"B\" : \"Programa Ciência sem fronteiras\",\r\n",
        "      \"C\" : \"Programa de intercâmbio financiado pelo governo Federal\",\r\n",
        "      \"D\" : \"Programa de intercâmbio financiado pelo governo Estadual\",\r\n",
        "      \"E\" : \"Programa de intercâmbio da instituição\",\r\n",
        "      \"F\" : \"Outro intercâmbio não institucional\"\r\n",
        "    })\r\n",
        "\"\"\"Mudar_variaveis(\r\n",
        "    \"Atividade_exterior\",\r\n",
        "    {\r\n",
        "      \"A\" : \"Não\",\r\n",
        "      \"B\" : \"Sim\",\r\n",
        "      \"C\" : \"Sim\",\r\n",
        "      \"D\" : \"Sim\",\r\n",
        "      \"E\" : \"Sim\",\r\n",
        "      \"F\" : \"Sim\"\r\n",
        "    })\"\"\"\r\n",
        "\r\n",
        "#Mudar o nome das categorias da coluna Ingresso_cota\r\n",
        "Mudar_variaveis(\r\n",
        "    'Ingresso_cota',\r\n",
        "    {\r\n",
        "      \"A\" : \"Nenhuma\",\r\n",
        "      \"B\" : \"Por critério étnico-racial\",\r\n",
        "      \"C\" : \"Por critério de renda\",\r\n",
        "      \"D\" : \"Por ter estudado em escola pública ou em particular com bolsa de estudos\",\r\n",
        "      \"E\" : \"Por sistema que combina dois ou mais critéios anteriores\",\r\n",
        "      \"F\" : \"Por sistema diferentes dos anteriores\"\r\n",
        "    })\r\n",
        "\r\n",
        "#Mudar o nome das categorias da coluna Estado_ensino_medio\r\n",
        "\"\"\"Mudar_variaveis(\r\n",
        "    \"Estado_ensino_medio\",\r\n",
        "    {\r\n",
        "      11 : \"Rondônia\",\r\n",
        "      12 : \"Acre\",\r\n",
        "      13 : \"Amazonas\",\r\n",
        "      14 : \"Roraima\",\r\n",
        "      15 : \"Pará\",\r\n",
        "      16 : \"Amapá\",\r\n",
        "      17 : \"Tocantins\",\r\n",
        "      21 : \"Maranhão\",\r\n",
        "      22 : \"Piauí\",\r\n",
        "      23 : \"Ceará\",\r\n",
        "      24 : \"Rio Grande do Norte\",\r\n",
        "      25 : \"Paraíba\",\r\n",
        "      26 : \"Pernambuco\",\r\n",
        "      27 : \"Alagoas\",\r\n",
        "      28 : \"Sergipe\",\r\n",
        "      29 : \"Bahia\",\r\n",
        "      31 : \"Minas Gerais\",\r\n",
        "      32 : \"Espírito Santo\",\r\n",
        "      33 : \"Rio de Janeiro\",\r\n",
        "      35 : \"São Paulo\",\r\n",
        "      41 : \"Paraná\",\r\n",
        "      42 : \"Santa Catarina\",\r\n",
        "      43 : \"Rio Grande do Sul\",\r\n",
        "      50 : \"Mato Grosso do Sul\",\r\n",
        "      51 : \"Mato Grosso\",\r\n",
        "      52 : \"Goiás\",\r\n",
        "      53 : \"Distrito federal\",\r\n",
        "      99 : \"Não se aplica\",\r\n",
        "    })\"\"\"\r\n",
        "Mudar_variaveis(\r\n",
        "    \"Regiao_ensino_medio\",\r\n",
        "    {\r\n",
        "      11 : \"Norte\",\r\n",
        "      12 : \"Norte\",\r\n",
        "      13 : \"Norte\",\r\n",
        "      14 : \"Norte\",\r\n",
        "      15 : \"Norte\",\r\n",
        "      16 : \"Norte\",\r\n",
        "      17 : \"Norte\",\r\n",
        "      21 : \"Nordeste\",\r\n",
        "      22 : \"Nordeste\",\r\n",
        "      23 : \"Nordeste\",\r\n",
        "      24 : \"Nordeste\",\r\n",
        "      25 : \"Nordeste\",\r\n",
        "      26 : \"Nordeste\",\r\n",
        "      27 : \"Nordeste\",\r\n",
        "      28 : \"Nordeste\",\r\n",
        "      29 : \"Nordeste\",\r\n",
        "      31 : \"Sudeste\",\r\n",
        "      32 : \"Sudeste\",\r\n",
        "      33 : \"Sudeste\",\r\n",
        "      35 : \"Sudeste\",\r\n",
        "      41 : \"Sul\",\r\n",
        "      42 : \"Sul\",\r\n",
        "      43 : \"Sul\",\r\n",
        "      50 : \"Centro-Oeste\",\r\n",
        "      51 : \"Centro-Oeste\",\r\n",
        "      52 : \"Centro-Oeste\",\r\n",
        "      53 : \"Centro-Oeste\",\r\n",
        "      99 : \"Não se aplica\",\r\n",
        "    })\r\n",
        "\r\n",
        "#Mudar o nome das categorias da coluna Tipo_ensino_medio\r\n",
        "Mudar_variaveis(\r\n",
        "    \"Tipo_ensino_medio\",\r\n",
        "    {\r\n",
        "      \"A\" : \"Todo em escola pública\",\r\n",
        "      \"B\" : \"Todo em escola privada(particular)\",\r\n",
        "      \"C\" : \"Todo no exterior\",\r\n",
        "      \"D\" : \"A maior parte na escola pública\",\r\n",
        "      \"E\" : \"A maior parte em escola privada(particular)\",\r\n",
        "      \"F\" : \"Parte no Brasil parte no exterior\"\r\n",
        "    })\r\n",
        "\r\n",
        "#Mudar o nome das categorias da coluna Modalidade_ensino_medio\r\n",
        "Mudar_variaveis(\r\n",
        "    \"Modalidade_ensino_medio\",\r\n",
        "    {\r\n",
        "      \"A\" : \"Ensino médio tradicional\",\r\n",
        "      \"B\" : \"Profissionalizante técnico\",\r\n",
        "      \"C\" : \"Profissionalizante magistério\",\r\n",
        "      \"D\" : \"Educação de Jovens e Adultos e/ou supletivo\",\r\n",
        "      \"E\" : \"Outra modalidade\"\r\n",
        "    })\r\n",
        "\r\n",
        "#Mudar o nome das categorias da coluna Incentivou_graduação\r\n",
        "Mudar_variaveis(\r\n",
        "    \"Incentivou_graduação\",\r\n",
        "    {\r\n",
        "      \"A\" : \"Ninguém\",\r\n",
        "      \"B\" : \"Pais\",\r\n",
        "      \"C\" : \"Outro membros da família\",\r\n",
        "      \"D\" : \"Professores\",\r\n",
        "      \"E\" : \"Líder ou representante religioso\",\r\n",
        "      \"F\" : \"Colegas/Amigos\",\r\n",
        "      \"G\" : \"Outras pessoas\"\r\n",
        "    })\r\n",
        "\r\n",
        "#Mudar o nome das categorias da coluna Grupo_dificuldade\r\n",
        "Mudar_variaveis(\r\n",
        "    'Grupo_dificuldade',\r\n",
        "    {\r\n",
        "      \"A\" : \"Não teve dificuldade\",\r\n",
        "      \"B\" : \"Não recebeu apoio para enfrentar dificuldades\",\r\n",
        "      \"C\" : \"Pais\",\r\n",
        "      \"D\" : \"Avós\",\r\n",
        "      \"E\" : \"Irmãos,primos ou tios\",\r\n",
        "      \"F\" : \"Líder ou representante religioso\",\r\n",
        "      \"G\" : \"Colegas de curso ou amigos\",\r\n",
        "      \"H\" : \"Professores do curso\",\r\n",
        "      \"I\" : \"Profissionais do serviço de apoio ao estudante da IES\",\r\n",
        "      \"J\" : \"Colegas de trabalho\",\r\n",
        "      \"K\" : \"Outro grupo\"\r\n",
        "    })\r\n",
        "\r\n",
        "#Mudar o nome das categorias da coluna Familia_curso_superior\r\n",
        "Mudar_variaveis(\r\n",
        "    \"Familia_curso_superior\",\r\n",
        "    {\r\n",
        "      \"A\" : \"Sim\",\r\n",
        "      \"B\" : \"Não\",\r\n",
        "    })\r\n",
        "\r\n",
        "#Mudar o nome das categorias da coluna Livro_lidos\r\n",
        "Mudar_variaveis(\r\n",
        "    'Livros_lidos',\r\n",
        "    {\r\n",
        "      \"A\" : \"Nenhum\",\r\n",
        "      \"B\" : \"Um ou dois\",\r\n",
        "      \"C\" : \"De três a cinco\",\r\n",
        "      \"D\" : \"De seis a oito\",\r\n",
        "      \"E\" : \"Mais de oito\"\r\n",
        "    })\r\n",
        "\r\n",
        "#Mudar o nome das categorias da coluna hora/semana estudadas\r\n",
        "Mudar_variaveis(\r\n",
        "    'horas/semana estudadas',\r\n",
        "    {\r\n",
        "      \"A\" : \"Nenhuma, apenas assistiu as aulas\",\r\n",
        "      \"B\" : \"De uma a três\",\r\n",
        "      \"C\" : \"De quatro a sete\",\r\n",
        "      \"D\" : \"De oito a doze\",\r\n",
        "      \"E\" : \"Mais de Doze\"\r\n",
        "    })\r\n",
        "\r\n",
        "#Mudar o nome das categorias da coluna Estudo_idioma_estrangeiro\r\n",
        "Mudar_variaveis(\r\n",
        "    \"Estudo_idioma_estrangeiro\",\r\n",
        "    {\r\n",
        "      \"A\" : \"Modalidade presencial\",\r\n",
        "      \"B\" : \"Modalidade semipresencial\",\r\n",
        "      \"C\" : \"Modalidade presencial e semipresencial\",\r\n",
        "      \"D\" : \"Modalidade a distância\",\r\n",
        "      \"E\" : \"Não\"\r\n",
        "    })\r\n",
        "\r\n",
        "#Mudar o nome das categorias da coluna Motivo_curso\r\n",
        "Mudar_variaveis(\r\n",
        "    'Motivo_curso',\r\n",
        "    {\r\n",
        "      \"A\" : \"Inserção no mercado de trabalho\",\r\n",
        "      \"B\" : \"Influência familiar\",\r\n",
        "      \"C\" : \"Valorização profissional\",\r\n",
        "      \"D\" : \"Prestígio Social\",\r\n",
        "      \"E\" : \"Vocação\",\r\n",
        "      \"F\" : \"Oferecido na modalidade a distância\",\r\n",
        "      \"G\" : \"Baixa concorrência para ingresso\",\r\n",
        "      \"H\" : \"Outro motivo\"\r\n",
        "    })\r\n",
        "\r\n",
        "#Mudar o nome das categorias da coluna Razao_instituicao\r\n",
        "Mudar_variaveis(\r\n",
        "    \"Razao_instituicao\",\r\n",
        "    {\r\n",
        "      \"A\" : \"Gratuidade\",\r\n",
        "      \"B\" : \"Preço da mensalidade\",\r\n",
        "      \"C\" : \"Proximidade da minha residência\",\r\n",
        "      \"D\" : \"Proximidade do meu trabalho\",\r\n",
        "      \"E\" : \"Facilidade de acesso\",\r\n",
        "      \"F\" : \"Qualidade/reputação\",\r\n",
        "      \"G\" : \"Foi a única onde tive aprovação\",\r\n",
        "      \"H\" : \"Possibilidade de ter bolsa de estudo\",\r\n",
        "      \"I\" : \"Outro motivo\"\r\n",
        "    })"
      ],
      "execution_count": null,
      "outputs": []
    },
    {
      "cell_type": "code",
      "metadata": {
        "id": "Jxg64DZuwOMR"
      },
      "source": [
        "sample_enade = Dataset_features.sample(n = 95000, random_state= 10)"
      ],
      "execution_count": null,
      "outputs": []
    },
    {
      "cell_type": "code",
      "metadata": {
        "id": "IIa_zzC4QTDX"
      },
      "source": [
        "sample_enade['Idade_intervalos'] = pd.cut(sample_enade['Idade'],bins=[0,20,25,30,35,40,45,50,100],\r\n",
        "                                     labels=['Entre 0 a 20','Entre 20 e 25','Entre 25 e 30', \r\n",
        "                                             'Entre 30 e 35', 'Entre 35 e 40','Entre 40 e 45','Entre 45 e 50', \r\n",
        "                                             \"Entre 50 a 100\"])"
      ],
      "execution_count": null,
      "outputs": []
    },
    {
      "cell_type": "code",
      "metadata": {
        "id": "mgbffIUMw_6M"
      },
      "source": [
        "sample_enade.drop(labels = [\"Idade\"],axis = 1, inplace = True)"
      ],
      "execution_count": null,
      "outputs": []
    },
    {
      "cell_type": "markdown",
      "metadata": {
        "id": "HguiLYV9H71R"
      },
      "source": [
        "#Execução algoritmo"
      ]
    },
    {
      "cell_type": "code",
      "metadata": {
        "id": "fOJmRe6PyFel"
      },
      "source": [
        "from sklearn.ensemble import RandomForestClassifier\r\n",
        "from sklearn.model_selection import train_test_split\r\n",
        "from sklearn.preprocessing import OrdinalEncoder"
      ],
      "execution_count": null,
      "outputs": []
    },
    {
      "cell_type": "code",
      "metadata": {
        "id": "2uGMSitZmLfE"
      },
      "source": [
        "from sklearn.pipeline import Pipeline"
      ],
      "execution_count": null,
      "outputs": []
    },
    {
      "cell_type": "code",
      "metadata": {
        "id": "5Y3ikpzvMMVp"
      },
      "source": [
        "X = sample_enade.drop(labels = [\"Nota\"],axis = 1)\r\n",
        "Y = sample_enade[\"Nota\"]\r\n",
        "\r\n",
        "X_train, X_test, y_train, y_test = train_test_split(X, Y , test_size=0.2, random_state=0)"
      ],
      "execution_count": null,
      "outputs": []
    },
    {
      "cell_type": "code",
      "metadata": {
        "id": "le2EP_uHLrPn"
      },
      "source": [
        "pipe_OE = Pipeline([('ordinalencoder',OrdinalEncoder()),\r\n",
        "     ('randomforestclassifier',RandomForestClassifier( n_jobs= -1,\r\n",
        "                                                      max_depth= 60,\r\n",
        " max_features= 'sqrt',\r\n",
        " min_samples_leaf= 1,\r\n",
        " min_samples_split= 20,\r\n",
        " n_estimators= 200))])"
      ],
      "execution_count": null,
      "outputs": []
    },
    {
      "cell_type": "code",
      "metadata": {
        "id": "0pa2Apg_OfKa"
      },
      "source": [
        "X_train_quartil = X_train[[\"Situação_trabalho\",\"Idade_intervalos\",\"Ingresso_cota\",\"Bolsa_de_estudos\",\"Atividade_exterior\",\r\n",
        "                           \"Situação_financeira\",\"Escolaridade_mae\",\"Raça/cor\",\"Escolaridade_pai\",\"Bolsa_academica\",\r\n",
        "                           \"Renda_família\",\"Estado_civil\",\"Motivo_curso\",\"Incentivou_graduação\",\"Estudo_idioma_estrangeiro\"]]\r\n",
        "X_test_quartil = X_test[[\"Situação_trabalho\",\"Idade_intervalos\",\"Ingresso_cota\",\"Bolsa_de_estudos\",\"Atividade_exterior\",\r\n",
        "                           \"Situação_financeira\",\"Escolaridade_mae\",\"Raça/cor\",\"Escolaridade_pai\",\"Bolsa_academica\",\r\n",
        "                           \"Renda_família\",\"Estado_civil\",\"Motivo_curso\",\"Incentivou_graduação\",\"Estudo_idioma_estrangeiro\"]]\r\n"
      ],
      "execution_count": null,
      "outputs": []
    },
    {
      "cell_type": "code",
      "metadata": {
        "id": "QF-_OD_NNlIR"
      },
      "source": [
        "y_train_quartil = pd.qcut(y_train,4,labels=[0,1,2,3])\r\n",
        "y_test_quartil = pd.qcut(y_test,4,labels=[0,1,2,3])"
      ],
      "execution_count": null,
      "outputs": []
    },
    {
      "cell_type": "code",
      "metadata": {
        "colab": {
          "base_uri": "https://localhost:8080/"
        },
        "id": "b_UsG4ChImFK",
        "outputId": "30487fca-219a-4d7f-a89e-863fafdeee9e"
      },
      "source": [
        "pipe_OE.fit(X_train_quartil,y_train_quartil)"
      ],
      "execution_count": null,
      "outputs": [
        {
          "output_type": "execute_result",
          "data": {
            "text/plain": [
              "Pipeline(memory=None,\n",
              "         steps=[('ordinalencoder',\n",
              "                 OrdinalEncoder(categories='auto',\n",
              "                                dtype=<class 'numpy.float64'>)),\n",
              "                ('randomforestclassifier',\n",
              "                 RandomForestClassifier(bootstrap=True, ccp_alpha=0.0,\n",
              "                                        class_weight=None, criterion='gini',\n",
              "                                        max_depth=60, max_features='sqrt',\n",
              "                                        max_leaf_nodes=None, max_samples=None,\n",
              "                                        min_impurity_decrease=0.0,\n",
              "                                        min_impurity_split=None,\n",
              "                                        min_samples_leaf=1,\n",
              "                                        min_samples_split=20,\n",
              "                                        min_weight_fraction_leaf=0.0,\n",
              "                                        n_estimators=200, n_jobs=-1,\n",
              "                                        oob_score=False, random_state=None,\n",
              "                                        verbose=0, warm_start=False))],\n",
              "         verbose=False)"
            ]
          },
          "metadata": {
            "tags": []
          },
          "execution_count": 17
        }
      ]
    },
    {
      "cell_type": "markdown",
      "metadata": {
        "id": "6YZJ_FzJI_x-"
      },
      "source": [
        "#Server"
      ]
    },
    {
      "cell_type": "code",
      "metadata": {
        "colab": {
          "base_uri": "https://localhost:8080/"
        },
        "id": "BhhTaKx0JFIP",
        "outputId": "98e1ba0a-e47b-47da-f4c6-f99322177d61"
      },
      "source": [
        "!pip install flask-ngrok"
      ],
      "execution_count": null,
      "outputs": [
        {
          "output_type": "stream",
          "text": [
            "Collecting flask-ngrok\n",
            "  Downloading https://files.pythonhosted.org/packages/af/6c/f54cb686ad1129e27d125d182f90f52b32f284e6c8df58c1bae54fa1adbc/flask_ngrok-0.0.25-py3-none-any.whl\n",
            "Requirement already satisfied: requests in /usr/local/lib/python3.6/dist-packages (from flask-ngrok) (2.23.0)\n",
            "Requirement already satisfied: Flask>=0.8 in /usr/local/lib/python3.6/dist-packages (from flask-ngrok) (1.1.2)\n",
            "Requirement already satisfied: idna<3,>=2.5 in /usr/local/lib/python3.6/dist-packages (from requests->flask-ngrok) (2.10)\n",
            "Requirement already satisfied: urllib3!=1.25.0,!=1.25.1,<1.26,>=1.21.1 in /usr/local/lib/python3.6/dist-packages (from requests->flask-ngrok) (1.24.3)\n",
            "Requirement already satisfied: chardet<4,>=3.0.2 in /usr/local/lib/python3.6/dist-packages (from requests->flask-ngrok) (3.0.4)\n",
            "Requirement already satisfied: certifi>=2017.4.17 in /usr/local/lib/python3.6/dist-packages (from requests->flask-ngrok) (2020.12.5)\n",
            "Requirement already satisfied: itsdangerous>=0.24 in /usr/local/lib/python3.6/dist-packages (from Flask>=0.8->flask-ngrok) (1.1.0)\n",
            "Requirement already satisfied: Jinja2>=2.10.1 in /usr/local/lib/python3.6/dist-packages (from Flask>=0.8->flask-ngrok) (2.11.3)\n",
            "Requirement already satisfied: click>=5.1 in /usr/local/lib/python3.6/dist-packages (from Flask>=0.8->flask-ngrok) (7.1.2)\n",
            "Requirement already satisfied: Werkzeug>=0.15 in /usr/local/lib/python3.6/dist-packages (from Flask>=0.8->flask-ngrok) (1.0.1)\n",
            "Requirement already satisfied: MarkupSafe>=0.23 in /usr/local/lib/python3.6/dist-packages (from Jinja2>=2.10.1->Flask>=0.8->flask-ngrok) (1.1.1)\n",
            "Installing collected packages: flask-ngrok\n",
            "Successfully installed flask-ngrok-0.0.25\n"
          ],
          "name": "stdout"
        }
      ]
    },
    {
      "cell_type": "code",
      "metadata": {
        "colab": {
          "base_uri": "https://localhost:8080/"
        },
        "id": "fzbtyly9K6iJ",
        "outputId": "9776613d-8983-4eaa-9ac8-efc81cfb1a0a"
      },
      "source": [
        "!pip install binpacking"
      ],
      "execution_count": null,
      "outputs": [
        {
          "output_type": "stream",
          "text": [
            "Collecting binpacking\n",
            "  Downloading https://files.pythonhosted.org/packages/53/b3/2796bc69236c624e46ba02b4e11c3c8d66193ce2124a03c11db190176bfe/binpacking-1.4.3.tar.gz\n",
            "Requirement already satisfied: numpy in /usr/local/lib/python3.6/dist-packages (from binpacking) (1.19.5)\n",
            "Requirement already satisfied: future in /usr/local/lib/python3.6/dist-packages (from binpacking) (0.16.0)\n",
            "Building wheels for collected packages: binpacking\n",
            "  Building wheel for binpacking (setup.py) ... \u001b[?25l\u001b[?25hdone\n",
            "  Created wheel for binpacking: filename=binpacking-1.4.3-cp36-none-any.whl size=9321 sha256=4af0b0992bbf6d31af45ab0e325b116839cd2c83bd0a0df96be1798514e65a60\n",
            "  Stored in directory: /root/.cache/pip/wheels/95/74/66/74afc87ebf7d7bacf550ad62c909c812e97b9b714425c68f04\n",
            "Successfully built binpacking\n",
            "Installing collected packages: binpacking\n",
            "Successfully installed binpacking-1.4.3\n"
          ],
          "name": "stdout"
        }
      ]
    },
    {
      "cell_type": "code",
      "metadata": {
        "id": "TEqRYh3vTuaK"
      },
      "source": [
        "def classificar(idade_intervalo,estado_civil,raca_cor,escolaridade_pai,escolaridade_mae,\r\n",
        "                renda_familia,situacao_financeira,situacao_trabalho,bolsa_estudo,bolsa_academica,\r\n",
        "                atividade_exterior,ingresso_cota,incentivou_graduacao,estudo_idioma,motivo_curso):\r\n",
        "  global pipe_OE,dic_classificador\r\n",
        "  x = [situacao_trabalho, idade_intervalo, ingresso_cota,\r\n",
        "       bolsa_estudo, atividade_exterior, situacao_financeira,\r\n",
        "       escolaridade_mae, raca_cor, escolaridade_pai, bolsa_academica,\r\n",
        "       renda_familia, estado_civil, motivo_curso, incentivou_graduacao,estudo_idioma]\r\n",
        "  y = pipe_OE.predict([x])\r\n",
        "\r\n",
        "  return str(y[0])\r\n",
        "  \r\n",
        "                       \r\n",
        "  "
      ],
      "execution_count": null,
      "outputs": []
    },
    {
      "cell_type": "code",
      "metadata": {
        "id": "Mj0idebyMSKr"
      },
      "source": [
        "import binpacking\r\n",
        "def agrupar(lista,k):\r\n",
        "  bins = binpacking.to_constant_bin_number(lista,k)\r\n",
        "\r\n",
        "  return bins"
      ],
      "execution_count": null,
      "outputs": []
    },
    {
      "cell_type": "code",
      "metadata": {
        "id": "oWua3kazI_Rr",
        "colab": {
          "base_uri": "https://localhost:8080/"
        },
        "outputId": "ce9ee96d-0cee-4e05-d4c9-0a27a8f0aab7"
      },
      "source": [
        "from flask_ngrok import run_with_ngrok\n",
        "from flask import Flask\n",
        "from flask import request\n",
        "import json\n",
        "import random\n",
        "from math import ceil\n",
        "\n",
        "app = Flask(__name__)\n",
        "run_with_ngrok(app)\n",
        "\n",
        "@app.route('/')\n",
        "@app.route('/agroup')\n",
        "def agroup():\n",
        "  json_alunos = request.args.get(\"alunos\")\n",
        "  max = int(request.args.get(\"max\"))\n",
        "  var = json.loads(json_alunos)\n",
        "  tamanho = len(var)\n",
        "  result = agrupar(var, ceil(tamanho/max))\n",
        "  for index in range(len(result)):\n",
        "\t  for key in result[index]:\n",
        "\t\t  result[index][key] = int(result[index][key])\n",
        "\n",
        "  return json.dumps(result)\n",
        "@app.route('/classify')\n",
        "def classify():\n",
        "\n",
        "  json_response = request.args.get(\"values\")\n",
        "  var = json.loads(json_response)\n",
        "\n",
        "  idade_intervalo = var[\"Idade_intervalos\"]\n",
        "  estado_civil = var[\"Estado_civil\"]\n",
        "  raca_cor = var[\"Raça_cor\"]\n",
        "  escolaridade_pai = var[\"Escolaridade_pai\"] \n",
        "  escolaridade_mae = var[\"Escolaridade_mae\"]\n",
        "  renda_familia = var[\"Renda_familia\"]\n",
        "  situacao_financeira = var[\"Situacao_financeira\"]\n",
        "  situacao_trabalho = var[\"Situacao_trabalho\"]\n",
        "  bolsa_estudo = var[\"Bolsa_estudo\"]\n",
        "  bolsa_academica = var[\"Bolsa_academica\"]\n",
        "  atividade_exterior = var[\"Atividade_exterior\"]\n",
        "  ingresso_cota = var[\"Ingresso_cota\"]\n",
        "  incetivou_graduacao = var[\"Incentivou_graduacao\"]\n",
        "  estudo_idioma = var[\"Estudo_idioma\"]\n",
        "  motivo_curso = var[\"Motivo_curso\"]\n",
        "  return classificar(idade_intervalo,estado_civil,raca_cor,escolaridade_pai,escolaridade_mae,\n",
        "                       renda_familia,situacao_financeira,situacao_trabalho,bolsa_estudo,bolsa_academica,\n",
        "                       atividade_exterior,ingresso_cota,incetivou_graduacao,estudo_idioma,motivo_curso)\n",
        "\n",
        "app.run()"
      ],
      "execution_count": null,
      "outputs": [
        {
          "output_type": "stream",
          "text": [
            " * Serving Flask app \"__main__\" (lazy loading)\n",
            " * Environment: production\n",
            "\u001b[31m   WARNING: This is a development server. Do not use it in a production deployment.\u001b[0m\n",
            "\u001b[2m   Use a production WSGI server instead.\u001b[0m\n",
            " * Debug mode: off\n"
          ],
          "name": "stdout"
        },
        {
          "output_type": "stream",
          "text": [
            " * Running on http://127.0.0.1:5000/ (Press CTRL+C to quit)\n"
          ],
          "name": "stderr"
        },
        {
          "output_type": "stream",
          "text": [
            " * Running on http://ef23389f3272.ngrok.io\n",
            " * Traffic stats available on http://127.0.0.1:4040\n"
          ],
          "name": "stdout"
        },
        {
          "output_type": "stream",
          "text": [
            "127.0.0.1 - - [20/Feb/2021 17:43:27] \"\u001b[33mGET /group?alunos={%22participante3@hotmail.com%22:3,%22participante6@hotmail.com%22:4,%22participante4@gmail.com%22:1,%22phil@hotmail.com%22:2,%22rogerio@outlook.com%22:1,%22participante1@hotmail.com%22:4,%22josh@gmail.com%22:3,%22participante5@hotmail.com%22:2,%22participante2@hotmail.com%22:1}&max=3 HTTP/1.1\u001b[0m\" 404 -\n",
            "127.0.0.1 - - [20/Feb/2021 17:43:27] \"\u001b[33mGET /favicon.ico HTTP/1.1\u001b[0m\" 404 -\n",
            "127.0.0.1 - - [20/Feb/2021 17:44:09] \"\u001b[37mGET /agroup?alunos={%22participante3@hotmail.com%22:3,%22participante6@hotmail.com%22:4,%22participante4@gmail.com%22:1,%22phil@hotmail.com%22:2,%22rogerio@outlook.com%22:1,%22participante1@hotmail.com%22:4,%22josh@gmail.com%22:3,%22participante5@hotmail.com%22:2,%22participante2@hotmail.com%22:1}&max=3 HTTP/1.1\u001b[0m\" 200 -\n"
          ],
          "name": "stderr"
        },
        {
          "output_type": "stream",
          "text": [
            "[{'participante1@hotmail.com': 4, 'participante5@hotmail.com': 2, 'participante2@hotmail.com': 1}, {'participante6@hotmail.com': 4, 'phil@hotmail.com': 2, 'rogerio@outlook.com': 1}, {'josh@gmail.com': 3, 'participante3@hotmail.com': 3, 'participante4@gmail.com': 1}]\n"
          ],
          "name": "stdout"
        },
        {
          "output_type": "stream",
          "text": [
            "127.0.0.1 - - [20/Feb/2021 17:45:27] \"\u001b[37mGET /agroup?alunos={%22participante3@hotmail.com%22:3,%22participante6@hotmail.com%22:4,%22participante4@gmail.com%22:1,%22phil@hotmail.com%22:2,%22rogerio@outlook.com%22:1,%22participante1@hotmail.com%22:4,%22josh@gmail.com%22:3,%22participante5@hotmail.com%22:2,%22participante2@hotmail.com%22:1}&max=3 HTTP/1.1\u001b[0m\" 200 -\n"
          ],
          "name": "stderr"
        },
        {
          "output_type": "stream",
          "text": [
            "[{'participante1@hotmail.com': 4, 'participante5@hotmail.com': 2, 'participante2@hotmail.com': 1}, {'participante6@hotmail.com': 4, 'phil@hotmail.com': 2, 'rogerio@outlook.com': 1}, {'josh@gmail.com': 3, 'participante3@hotmail.com': 3, 'participante4@gmail.com': 1}]\n"
          ],
          "name": "stdout"
        },
        {
          "output_type": "stream",
          "text": [
            "127.0.0.1 - - [20/Feb/2021 17:46:21] \"\u001b[37mGET /agroup?alunos=%7B%22participante3@hotmail.com%22:3,%22participante6@hotmail.com%22:4,%22participante4@gmail.com%22:1,%22phil@hotmail.com%22:2,%22rogerio@outlook.com%22:1,%22participante1@hotmail.com%22:4,%22josh@gmail.com%22:3,%22participante5@hotmail.com%22:2,%22participante2@hotmail.com%22:1%7D&max=3 HTTP/1.1\u001b[0m\" 200 -\n"
          ],
          "name": "stderr"
        },
        {
          "output_type": "stream",
          "text": [
            "[{'participante1@hotmail.com': 4, 'participante5@hotmail.com': 2, 'participante2@hotmail.com': 1}, {'participante6@hotmail.com': 4, 'phil@hotmail.com': 2, 'rogerio@outlook.com': 1}, {'josh@gmail.com': 3, 'participante3@hotmail.com': 3, 'participante4@gmail.com': 1}]\n"
          ],
          "name": "stdout"
        },
        {
          "output_type": "stream",
          "text": [
            "127.0.0.1 - - [20/Feb/2021 17:47:20] \"\u001b[37mGET /agroup?alunos=%7B%22participante3@hotmail.com%22:3,%22participante6@hotmail.com%22:4,%22participante4@gmail.com%22:1,%22phil@hotmail.com%22:2,%22rogerio@outlook.com%22:1,%22participante1@hotmail.com%22:4,%22josh@gmail.com%22:3,%22participante5@hotmail.com%22:2,%22participante2@hotmail.com%22:1%7D&max=3 HTTP/1.1\u001b[0m\" 200 -\n"
          ],
          "name": "stderr"
        },
        {
          "output_type": "stream",
          "text": [
            "[{'participante1@hotmail.com': 4, 'participante5@hotmail.com': 2, 'participante2@hotmail.com': 1}, {'participante6@hotmail.com': 4, 'phil@hotmail.com': 2, 'rogerio@outlook.com': 1}, {'josh@gmail.com': 3, 'participante3@hotmail.com': 3, 'participante4@gmail.com': 1}]\n"
          ],
          "name": "stdout"
        },
        {
          "output_type": "stream",
          "text": [
            "127.0.0.1 - - [20/Feb/2021 17:59:01] \"\u001b[37mGET /agroup?alunos=%7B%22participante3@hotmail.com%22:3,%22participante6@hotmail.com%22:4,%22participante4@gmail.com%22:1,%22phil@hotmail.com%22:2,%22rogerio@outlook.com%22:1,%22participante1@hotmail.com%22:4,%22josh@gmail.com%22:3,%22participante5@hotmail.com%22:2,%22participante2@hotmail.com%22:1%7D&max=3 HTTP/1.1\u001b[0m\" 200 -\n"
          ],
          "name": "stderr"
        },
        {
          "output_type": "stream",
          "text": [
            "[{'participante1@hotmail.com': 4, 'participante5@hotmail.com': 2, 'participante2@hotmail.com': 1}, {'participante6@hotmail.com': 4, 'phil@hotmail.com': 2, 'rogerio@outlook.com': 1}, {'josh@gmail.com': 3, 'participante3@hotmail.com': 3, 'participante4@gmail.com': 1}]\n"
          ],
          "name": "stdout"
        },
        {
          "output_type": "stream",
          "text": [
            "127.0.0.1 - - [20/Feb/2021 18:00:27] \"\u001b[37mGET /agroup?alunos=%7B%22participante3@hotmail.com%22:3,%22participante6@hotmail.com%22:4,%22participante4@gmail.com%22:1,%22phil@hotmail.com%22:2,%22rogerio@outlook.com%22:1,%22participante1@hotmail.com%22:4,%22josh@gmail.com%22:3,%22participante5@hotmail.com%22:2,%22participante2@hotmail.com%22:1%7D&max=3 HTTP/1.1\u001b[0m\" 200 -\n"
          ],
          "name": "stderr"
        },
        {
          "output_type": "stream",
          "text": [
            "[{'participante1@hotmail.com': 4, 'participante5@hotmail.com': 2, 'participante2@hotmail.com': 1}, {'participante6@hotmail.com': 4, 'phil@hotmail.com': 2, 'rogerio@outlook.com': 1}, {'josh@gmail.com': 3, 'participante3@hotmail.com': 3, 'participante4@gmail.com': 1}]\n"
          ],
          "name": "stdout"
        },
        {
          "output_type": "stream",
          "text": [
            "127.0.0.1 - - [20/Feb/2021 18:01:12] \"\u001b[37mGET /agroup?alunos=%7B%22participante3@hotmail.com%22:3,%22participante6@hotmail.com%22:4,%22participante4@gmail.com%22:1,%22phil@hotmail.com%22:2,%22rogerio@outlook.com%22:1,%22participante1@hotmail.com%22:4,%22josh@gmail.com%22:3,%22participante5@hotmail.com%22:2,%22participante2@hotmail.com%22:1%7D&max=3 HTTP/1.1\u001b[0m\" 200 -\n"
          ],
          "name": "stderr"
        },
        {
          "output_type": "stream",
          "text": [
            "[{'participante1@hotmail.com': 4, 'participante5@hotmail.com': 2, 'participante2@hotmail.com': 1}, {'participante6@hotmail.com': 4, 'phil@hotmail.com': 2, 'rogerio@outlook.com': 1}, {'josh@gmail.com': 3, 'participante3@hotmail.com': 3, 'participante4@gmail.com': 1}]\n"
          ],
          "name": "stdout"
        },
        {
          "output_type": "stream",
          "text": [
            "127.0.0.1 - - [20/Feb/2021 18:04:20] \"\u001b[37mGET /agroup?alunos=%7B%22participante3@hotmail.com%22:3,%22participante6@hotmail.com%22:4,%22participante4@gmail.com%22:1,%22phil@hotmail.com%22:2,%22rogerio@outlook.com%22:1,%22participante1@hotmail.com%22:4,%22josh@gmail.com%22:3,%22participante5@hotmail.com%22:2,%22participante2@hotmail.com%22:1%7D&max=3 HTTP/1.1\u001b[0m\" 200 -\n"
          ],
          "name": "stderr"
        },
        {
          "output_type": "stream",
          "text": [
            "[{'participante1@hotmail.com': 4, 'participante5@hotmail.com': 2, 'participante2@hotmail.com': 1}, {'participante6@hotmail.com': 4, 'phil@hotmail.com': 2, 'rogerio@outlook.com': 1}, {'josh@gmail.com': 3, 'participante3@hotmail.com': 3, 'participante4@gmail.com': 1}]\n"
          ],
          "name": "stdout"
        },
        {
          "output_type": "stream",
          "text": [
            "127.0.0.1 - - [20/Feb/2021 18:06:04] \"\u001b[37mGET /agroup?alunos=%7B%22participante3@hotmail.com%22:3,%22participante6@hotmail.com%22:4,%22participante4@gmail.com%22:1,%22phil@hotmail.com%22:2,%22rogerio@outlook.com%22:1,%22participante1@hotmail.com%22:4,%22josh@gmail.com%22:3,%22participante5@hotmail.com%22:2,%22participante2@hotmail.com%22:1%7D&max=3 HTTP/1.1\u001b[0m\" 200 -\n"
          ],
          "name": "stderr"
        },
        {
          "output_type": "stream",
          "text": [
            "[{'participante1@hotmail.com': 4, 'participante5@hotmail.com': 2, 'participante2@hotmail.com': 1}, {'participante6@hotmail.com': 4, 'phil@hotmail.com': 2, 'rogerio@outlook.com': 1}, {'josh@gmail.com': 3, 'participante3@hotmail.com': 3, 'participante4@gmail.com': 1}]\n"
          ],
          "name": "stdout"
        },
        {
          "output_type": "stream",
          "text": [
            "127.0.0.1 - - [20/Feb/2021 18:08:21] \"\u001b[37mGET /agroup?alunos=%7B%22participante3@hotmail.com%22:3,%22participante6@hotmail.com%22:4,%22participante4@gmail.com%22:1,%22phil@hotmail.com%22:2,%22rogerio@outlook.com%22:1,%22participante1@hotmail.com%22:4,%22josh@gmail.com%22:3,%22participante5@hotmail.com%22:2,%22participante2@hotmail.com%22:1%7D&max=3 HTTP/1.1\u001b[0m\" 200 -\n"
          ],
          "name": "stderr"
        },
        {
          "output_type": "stream",
          "text": [
            "[{'participante1@hotmail.com': 4, 'participante5@hotmail.com': 2, 'participante2@hotmail.com': 1}, {'participante6@hotmail.com': 4, 'phil@hotmail.com': 2, 'rogerio@outlook.com': 1}, {'josh@gmail.com': 3, 'participante3@hotmail.com': 3, 'participante4@gmail.com': 1}]\n"
          ],
          "name": "stdout"
        },
        {
          "output_type": "stream",
          "text": [
            "127.0.0.1 - - [20/Feb/2021 18:09:08] \"\u001b[37mGET /agroup?alunos=%7B%22participante3@hotmail.com%22:3,%22participante6@hotmail.com%22:4,%22participante4@gmail.com%22:1,%22phil@hotmail.com%22:2,%22rogerio@outlook.com%22:1,%22participante1@hotmail.com%22:4,%22josh@gmail.com%22:3,%22participante5@hotmail.com%22:2,%22participante2@hotmail.com%22:1%7D&max=3 HTTP/1.1\u001b[0m\" 200 -\n"
          ],
          "name": "stderr"
        },
        {
          "output_type": "stream",
          "text": [
            "[{'participante1@hotmail.com': 4, 'participante5@hotmail.com': 2, 'participante2@hotmail.com': 1}, {'participante6@hotmail.com': 4, 'phil@hotmail.com': 2, 'rogerio@outlook.com': 1}, {'josh@gmail.com': 3, 'participante3@hotmail.com': 3, 'participante4@gmail.com': 1}]\n"
          ],
          "name": "stdout"
        },
        {
          "output_type": "stream",
          "text": [
            "127.0.0.1 - - [20/Feb/2021 18:10:27] \"\u001b[37mGET /agroup?alunos=%7B%22participante3@hotmail.com%22:3,%22participante6@hotmail.com%22:4,%22participante4@gmail.com%22:1,%22phil@hotmail.com%22:2,%22rogerio@outlook.com%22:1,%22participante1@hotmail.com%22:4,%22josh@gmail.com%22:3,%22participante5@hotmail.com%22:2,%22participante2@hotmail.com%22:1%7D&max=3 HTTP/1.1\u001b[0m\" 200 -\n"
          ],
          "name": "stderr"
        },
        {
          "output_type": "stream",
          "text": [
            "[{'participante1@hotmail.com': 4, 'participante5@hotmail.com': 2, 'participante2@hotmail.com': 1}, {'participante6@hotmail.com': 4, 'phil@hotmail.com': 2, 'rogerio@outlook.com': 1}, {'josh@gmail.com': 3, 'participante3@hotmail.com': 3, 'participante4@gmail.com': 1}]\n"
          ],
          "name": "stdout"
        },
        {
          "output_type": "stream",
          "text": [
            "127.0.0.1 - - [20/Feb/2021 18:13:08] \"\u001b[37mGET /agroup?alunos=%7B%22participante3@hotmail.com%22:3,%22participante6@hotmail.com%22:4,%22participante4@gmail.com%22:1,%22phil@hotmail.com%22:2,%22rogerio@outlook.com%22:1,%22participante1@hotmail.com%22:4,%22josh@gmail.com%22:3,%22participante5@hotmail.com%22:2,%22participante2@hotmail.com%22:1%7D&max=3 HTTP/1.1\u001b[0m\" 200 -\n"
          ],
          "name": "stderr"
        },
        {
          "output_type": "stream",
          "text": [
            "[{'participante1@hotmail.com': 4, 'participante5@hotmail.com': 2, 'participante2@hotmail.com': 1}, {'participante6@hotmail.com': 4, 'phil@hotmail.com': 2, 'rogerio@outlook.com': 1}, {'josh@gmail.com': 3, 'participante3@hotmail.com': 3, 'participante4@gmail.com': 1}]\n"
          ],
          "name": "stdout"
        },
        {
          "output_type": "stream",
          "text": [
            "127.0.0.1 - - [20/Feb/2021 18:13:52] \"\u001b[37mGET /agroup?alunos=%7B%22participante3@hotmail.com%22:3,%22participante6@hotmail.com%22:4,%22participante4@gmail.com%22:1,%22phil@hotmail.com%22:2,%22rogerio@outlook.com%22:1,%22participante1@hotmail.com%22:4,%22josh@gmail.com%22:3,%22participante5@hotmail.com%22:2,%22participante2@hotmail.com%22:1%7D&max=3 HTTP/1.1\u001b[0m\" 200 -\n"
          ],
          "name": "stderr"
        },
        {
          "output_type": "stream",
          "text": [
            "[{'participante1@hotmail.com': 4, 'participante5@hotmail.com': 2, 'participante2@hotmail.com': 1}, {'participante6@hotmail.com': 4, 'phil@hotmail.com': 2, 'rogerio@outlook.com': 1}, {'josh@gmail.com': 3, 'participante3@hotmail.com': 3, 'participante4@gmail.com': 1}]\n"
          ],
          "name": "stdout"
        },
        {
          "output_type": "stream",
          "text": [
            "127.0.0.1 - - [20/Feb/2021 18:14:43] \"\u001b[37mGET /agroup?alunos=%7B%22participante3@hotmail.com%22:3,%22participante6@hotmail.com%22:4,%22participante4@gmail.com%22:1,%22phil@hotmail.com%22:2,%22rogerio@outlook.com%22:1,%22participante1@hotmail.com%22:4,%22josh@gmail.com%22:3,%22participante5@hotmail.com%22:2,%22participante2@hotmail.com%22:1%7D&max=3 HTTP/1.1\u001b[0m\" 200 -\n"
          ],
          "name": "stderr"
        },
        {
          "output_type": "stream",
          "text": [
            "[{'participante1@hotmail.com': 4, 'participante5@hotmail.com': 2, 'participante2@hotmail.com': 1}, {'participante6@hotmail.com': 4, 'phil@hotmail.com': 2, 'rogerio@outlook.com': 1}, {'josh@gmail.com': 3, 'participante3@hotmail.com': 3, 'participante4@gmail.com': 1}]\n"
          ],
          "name": "stdout"
        }
      ]
    }
  ]
}